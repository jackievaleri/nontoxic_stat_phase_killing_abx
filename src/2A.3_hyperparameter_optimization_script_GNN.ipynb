{
 "cells": [
  {
   "cell_type": "code",
   "execution_count": 1,
   "metadata": {},
   "outputs": [],
   "source": [
    "bash_dir = 'script_2A_gnn_hyperopt.sh'\n",
    "\n",
    "prefix = 'mkdir hyperopt_gnn_models/; chemprop_train '\n",
    "suffix = ' --data_path data_prep_for_ml_trainset.csv --dataset_type classification --features_path data_prep_for_ml_trainset.npz --no_features_scaling --num_folds 3 --ensemble_size 1 --split_type scaffold_balanced --split_sizes 0.8 0.1 0.1 --smiles_columns SMILES --ignore_columns Name --gpu 0'\n",
    "\n",
    "initlr = [1e-3, 1e-4]\n",
    "dropout = [0.1, 0.25, 0.4]\n",
    "hiddensize = [300,500,1000,1500]\n",
    "ffnnumlayers = [1,2]\n",
    "depth = [3,4,5]\n",
    "\n",
    "model_dir = 0\n",
    "for l in initlr:\n",
    "    for d in dropout:\n",
    "        for h in hiddensize:\n",
    "            for f in ffnnumlayers:\n",
    "                for de in depth:\n",
    "                    command = 'mkdir hyperopt_gnn_models/' + str(model_dir) + '; ' + prefix + '--init_lr ' + str(l) + ' --dropout ' + str(d) + ' --hidden_size ' + str(h) + ' --ffn_num_layers ' + str(f) + ' --depth ' + str(de) + ' --save_dir hyperopt_gnn_models/' + str(model_dir) + suffix\n",
    "                    model_dir = model_dir + 1\n",
    "                    file1 = open(bash_dir,\"a\") \n",
    "                    file1.write(command)\n",
    "                    file1.write('\\n')\n",
    "                    file1.close()"
   ]
  },
  {
   "cell_type": "code",
   "execution_count": null,
   "metadata": {},
   "outputs": [],
   "source": []
  }
 ],
 "metadata": {
  "kernelspec": {
   "display_name": "chemprop",
   "language": "python",
   "name": "chemprop"
  },
  "language_info": {
   "codemirror_mode": {
    "name": "ipython",
    "version": 3
   },
   "file_extension": ".py",
   "mimetype": "text/x-python",
   "name": "python",
   "nbconvert_exporter": "python",
   "pygments_lexer": "ipython3",
   "version": "3.8.12"
  }
 },
 "nbformat": 4,
 "nbformat_minor": 2
}
