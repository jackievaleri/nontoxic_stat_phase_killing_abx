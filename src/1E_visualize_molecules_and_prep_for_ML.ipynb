{
 "cells": [
  {
   "cell_type": "code",
   "execution_count": 1,
   "metadata": {},
   "outputs": [],
   "source": [
    "import pandas as pd\n",
    "import numpy as np\n",
    "import matplotlib.pyplot as plt\n",
    "\n",
    "import rdkit\n",
    "from rdkit import Chem"
   ]
  },
  {
   "cell_type": "markdown",
   "metadata": {},
   "source": [
    "# Part 1: Read in data and process"
   ]
  },
  {
   "cell_type": "code",
   "execution_count": 2,
   "metadata": {},
   "outputs": [
    {
     "name": "stdout",
     "output_type": "stream",
     "text": [
      "num drugs: 6720\n"
     ]
    },
    {
     "data": {
      "text/html": [
       "<div>\n",
       "<style scoped>\n",
       "    .dataframe tbody tr th:only-of-type {\n",
       "        vertical-align: middle;\n",
       "    }\n",
       "\n",
       "    .dataframe tbody tr th {\n",
       "        vertical-align: top;\n",
       "    }\n",
       "\n",
       "    .dataframe thead th {\n",
       "        text-align: right;\n",
       "    }\n",
       "</style>\n",
       "<table border=\"1\" class=\"dataframe\">\n",
       "  <thead>\n",
       "    <tr style=\"text-align: right;\">\n",
       "      <th></th>\n",
       "      <th>SMILES</th>\n",
       "      <th>Name</th>\n",
       "      <th>hit_inh</th>\n",
       "      <th>hit_kill</th>\n",
       "    </tr>\n",
       "  </thead>\n",
       "  <tbody>\n",
       "    <tr>\n",
       "      <th>0</th>\n",
       "      <td>CCCC[C@H](CC)CNC(=N)N=C(N)NCCCCCCNC(N)=NC(=N)N...</td>\n",
       "      <td>alexidine</td>\n",
       "      <td>True</td>\n",
       "      <td>True</td>\n",
       "    </tr>\n",
       "    <tr>\n",
       "      <th>1</th>\n",
       "      <td>NC(Nc1ccc(Cl)cc1)=NC(=N)NCCCCCCNC(=N)N=C(N)Nc1...</td>\n",
       "      <td>chlorhexidine</td>\n",
       "      <td>True</td>\n",
       "      <td>True</td>\n",
       "    </tr>\n",
       "    <tr>\n",
       "      <th>2</th>\n",
       "      <td>CC[C@@H](C)CCCCC(=O)N[C@@H](CCN)C(=O)N[C@@H]([...</td>\n",
       "      <td>polymyxin-B-sulfate</td>\n",
       "      <td>True</td>\n",
       "      <td>True</td>\n",
       "    </tr>\n",
       "    <tr>\n",
       "      <th>3</th>\n",
       "      <td>OCCN[C@H]1CCCc2c1[nH]c1ccc(cc21)-c1ccccc1 |&amp;1:...</td>\n",
       "      <td>casin</td>\n",
       "      <td>True</td>\n",
       "      <td>True</td>\n",
       "    </tr>\n",
       "    <tr>\n",
       "      <th>4</th>\n",
       "      <td>NC[C@H]1O[C@H](O[C@@H]2[C@@H](N)C[C@@H](N)[C@H...</td>\n",
       "      <td>bekanamycin</td>\n",
       "      <td>True</td>\n",
       "      <td>True</td>\n",
       "    </tr>\n",
       "    <tr>\n",
       "      <th>...</th>\n",
       "      <td>...</td>\n",
       "      <td>...</td>\n",
       "      <td>...</td>\n",
       "      <td>...</td>\n",
       "    </tr>\n",
       "    <tr>\n",
       "      <th>6715</th>\n",
       "      <td>CC(O)(CC(O)=O)CC(O)=O</td>\n",
       "      <td>meglutol</td>\n",
       "      <td>False</td>\n",
       "      <td>False</td>\n",
       "    </tr>\n",
       "    <tr>\n",
       "      <th>6716</th>\n",
       "      <td>CCCCCCCCN[C@H](C)[C@@H](O)c1ccc(SC(C)C)cc1 |&amp;1...</td>\n",
       "      <td>suloctidil</td>\n",
       "      <td>False</td>\n",
       "      <td>False</td>\n",
       "    </tr>\n",
       "    <tr>\n",
       "      <th>6717</th>\n",
       "      <td>CCc1nn(CCCN2CCN(CC2)c2cccc(Cl)c2)c(=O)n1CCOc1c...</td>\n",
       "      <td>nefazodone</td>\n",
       "      <td>False</td>\n",
       "      <td>False</td>\n",
       "    </tr>\n",
       "    <tr>\n",
       "      <th>6718</th>\n",
       "      <td>NC[C@H]1O[C@H](O[C@@H]2[C@@H](N)C[C@@H](N)[C@H...</td>\n",
       "      <td>ribostamycin</td>\n",
       "      <td>False</td>\n",
       "      <td>False</td>\n",
       "    </tr>\n",
       "    <tr>\n",
       "      <th>6719</th>\n",
       "      <td>C1CCC(CC1)n1cnc2c(Nc3ccc(cc3)N3CCOCC3)nc(Oc3cc...</td>\n",
       "      <td>purmorphamine</td>\n",
       "      <td>False</td>\n",
       "      <td>False</td>\n",
       "    </tr>\n",
       "  </tbody>\n",
       "</table>\n",
       "<p>6720 rows × 4 columns</p>\n",
       "</div>"
      ],
      "text/plain": [
       "                                                 SMILES                 Name  \\\n",
       "0     CCCC[C@H](CC)CNC(=N)N=C(N)NCCCCCCNC(N)=NC(=N)N...            alexidine   \n",
       "1     NC(Nc1ccc(Cl)cc1)=NC(=N)NCCCCCCNC(=N)N=C(N)Nc1...        chlorhexidine   \n",
       "2     CC[C@@H](C)CCCCC(=O)N[C@@H](CCN)C(=O)N[C@@H]([...  polymyxin-B-sulfate   \n",
       "3     OCCN[C@H]1CCCc2c1[nH]c1ccc(cc21)-c1ccccc1 |&1:...                casin   \n",
       "4     NC[C@H]1O[C@H](O[C@@H]2[C@@H](N)C[C@@H](N)[C@H...          bekanamycin   \n",
       "...                                                 ...                  ...   \n",
       "6715                              CC(O)(CC(O)=O)CC(O)=O             meglutol   \n",
       "6716  CCCCCCCCN[C@H](C)[C@@H](O)c1ccc(SC(C)C)cc1 |&1...           suloctidil   \n",
       "6717  CCc1nn(CCCN2CCN(CC2)c2cccc(Cl)c2)c(=O)n1CCOc1c...           nefazodone   \n",
       "6718  NC[C@H]1O[C@H](O[C@@H]2[C@@H](N)C[C@@H](N)[C@H...         ribostamycin   \n",
       "6719  C1CCC(CC1)n1cnc2c(Nc3ccc(cc3)N3CCOCC3)nc(Oc3cc...        purmorphamine   \n",
       "\n",
       "      hit_inh  hit_kill  \n",
       "0        True      True  \n",
       "1        True      True  \n",
       "2        True      True  \n",
       "3        True      True  \n",
       "4        True      True  \n",
       "...       ...       ...  \n",
       "6715    False     False  \n",
       "6716    False     False  \n",
       "6717    False     False  \n",
       "6718    False     False  \n",
       "6719    False     False  \n",
       "\n",
       "[6720 rows x 4 columns]"
      ]
     },
     "execution_count": 2,
     "metadata": {},
     "output_type": "execute_result"
    }
   ],
   "source": [
    "# define data directory\n",
    "data_path = '../data/'\n",
    "\n",
    "# load in the validated data for inhibition and killing\n",
    "df = pd.read_excel(data_path + 'TrainingDataRound1_wValidation.xlsx')\n",
    "print('num drugs: ' + str(len(df)))\n",
    "\n",
    "# if there has been a third/fourth replicate, use the validation data to call hits\n",
    "# for data points without replicates, call as hit only if both inhibition reps are below threshold\n",
    "thresh = 0.2\n",
    "secondchoice = list((df['Rep1_Inhibition'] < thresh) & (df['Rep2_Inhibition'] < thresh))\n",
    "test = list(df['Inhibition Hit'])\n",
    "corrected = []\n",
    "for i in range(len(test)):\n",
    "    if test[i] == 1.0:\n",
    "        corrected.append(True)\n",
    "    elif test[i] == 0.0:\n",
    "        corrected.append(False)\n",
    "    else:\n",
    "        corrected.append(secondchoice[i])\n",
    "df['hit_inh'] = corrected\n",
    "\n",
    "# killing hit has already been manually validated via CFU plating so use \"Killing Hit\" column as ground truth\n",
    "df['hit_kill'] = [True if x == 1.0 else False for x in list(df['Killing Hit'])]\n",
    "\n",
    "# save cleaned dataframe\n",
    "df = df[['SMILES', 'Name', 'hit_inh', 'hit_kill']]\n",
    "df.to_csv('../out/data_for_ml.csv', index = False)\n",
    "df"
   ]
  },
  {
   "cell_type": "code",
   "execution_count": 3,
   "metadata": {},
   "outputs": [
    {
     "name": "stdout",
     "output_type": "stream",
     "text": [
      "148\n",
      "84\n"
     ]
    }
   ],
   "source": [
    "# get information about the number of killing and inhibition hits\n",
    "print(sum(df['hit_inh'] > 0))\n",
    "print(sum(df['hit_kill'] > 0))"
   ]
  },
  {
   "cell_type": "markdown",
   "metadata": {},
   "source": [
    "# Part 2: Visualize a couple hand-picked compounds"
   ]
  },
  {
   "cell_type": "code",
   "execution_count": 4,
   "metadata": {},
   "outputs": [
    {
     "data": {
      "image/png": "[encoded data removed]",
      "text/plain": [
       "<rdkit.Chem.rdchem.Mol at 0x7f7e48efdad0>"
      ]
     },
     "execution_count": 4,
     "metadata": {},
     "output_type": "execute_result"
    }
   ],
   "source": [
    "# hand pick difloxacin for visualization\n",
    "t1 = df[df['Name'] == 'difloxacin']\n",
    "Chem.MolFromSmiles(list(t1['SMILES'])[0])"
   ]
  },
  {
   "cell_type": "code",
   "execution_count": 5,
   "metadata": {},
   "outputs": [
    {
     "data": {
      "image/png": "[encoded data removed]",
      "text/plain": [
       "<rdkit.Chem.rdchem.Mol at 0x7f7e48efdcb0>"
      ]
     },
     "execution_count": 5,
     "metadata": {},
     "output_type": "execute_result"
    }
   ],
   "source": [
    "# hand pick furagin for visualization\n",
    "t1 = df[df['Name'] == 'furagin']\n",
    "Chem.MolFromSmiles(list(t1['SMILES'])[0])"
   ]
  },
  {
   "cell_type": "code",
   "execution_count": 6,
   "metadata": {},
   "outputs": [
    {
     "data": {
      "image/png": "[encoded data removed]",
      "text/plain": [
       "<rdkit.Chem.rdchem.Mol at 0x7f7e48efd8a0>"
      ]
     },
     "execution_count": 6,
     "metadata": {},
     "output_type": "execute_result"
    }
   ],
   "source": [
    "# hand pick BIX-01294 for visualization\n",
    "t1 = df[df['Name'] == 'BIX-01294']\n",
    "Chem.MolFromSmiles(list(t1['SMILES'])[0])"
   ]
  },
  {
   "cell_type": "code",
   "execution_count": 7,
   "metadata": {},
   "outputs": [
    {
     "data": {
      "image/png": "[encoded data removed]",
      "text/plain": [
       "<rdkit.Chem.rdchem.Mol at 0x7f7e48f01850>"
      ]
     },
     "execution_count": 7,
     "metadata": {},
     "output_type": "execute_result"
    }
   ],
   "source": [
    "# hand pick sulopenem for visualization\n",
    "t1 = df[df['Name'] == 'sulopenem']\n",
    "Chem.MolFromSmiles(list(t1['SMILES'])[0])"
   ]
  },
  {
   "cell_type": "markdown",
   "metadata": {},
   "source": [
    "# Part 3: Look at different classes of compounds"
   ]
  },
  {
   "cell_type": "code",
   "execution_count": 8,
   "metadata": {},
   "outputs": [
    {
     "name": "stdout",
     "output_type": "stream",
     "text": [
      "class a : 6549\n",
      "class b : 87\n",
      "class c : 23\n",
      "class d : 61\n"
     ]
    }
   ],
   "source": [
    "test = df[['SMILES', 'Name', 'hit_inh', 'hit_kill']]\n",
    "test\n",
    "\n",
    "# class a is not hits in inh or kill = expect the most here\n",
    "classa = ~(test['hit_inh']) & ~(test['hit_kill'])\n",
    "classamols = test[classa]\n",
    "print('class a : ' + str(sum(classa)))\n",
    "\n",
    "# class b is hits in inh but not kill\n",
    "classb = (test['hit_inh']) & ~(test['hit_kill'])\n",
    "classbmols = test[classb]\n",
    "print('class b : ' + str(sum(classb)))\n",
    "\n",
    "# class c is hits in kill but not inh\n",
    "classc = ~(test['hit_inh']) & (test['hit_kill'])\n",
    "classcmols = test[classc]\n",
    "print('class c : ' + str(sum(classc)))\n",
    "\n",
    "# class d is hits in both inh & kill\n",
    "classd = (test['hit_inh']) & (test['hit_kill'])\n",
    "classdmols = test[classd]\n",
    "print('class d : ' + str(sum(classd)))"
   ]
  },
  {
   "cell_type": "code",
   "execution_count": 9,
   "metadata": {},
   "outputs": [
    {
     "data": {
      "text/html": [
       "<div>\n",
       "<style scoped>\n",
       "    .dataframe tbody tr th:only-of-type {\n",
       "        vertical-align: middle;\n",
       "    }\n",
       "\n",
       "    .dataframe tbody tr th {\n",
       "        vertical-align: top;\n",
       "    }\n",
       "\n",
       "    .dataframe thead th {\n",
       "        text-align: right;\n",
       "    }\n",
       "</style>\n",
       "<table border=\"1\" class=\"dataframe\">\n",
       "  <thead>\n",
       "    <tr style=\"text-align: right;\">\n",
       "      <th></th>\n",
       "      <th>SMILES</th>\n",
       "      <th>Name</th>\n",
       "      <th>hit_inh</th>\n",
       "      <th>hit_kill</th>\n",
       "    </tr>\n",
       "  </thead>\n",
       "  <tbody>\n",
       "    <tr>\n",
       "      <th>86</th>\n",
       "      <td>CCn1c2ccccc2c2cc(Nc3ccnc(NCCCN4CCOCC4)n3)ccc12</td>\n",
       "      <td>EHop-016</td>\n",
       "      <td>False</td>\n",
       "      <td>False</td>\n",
       "    </tr>\n",
       "    <tr>\n",
       "      <th>87</th>\n",
       "      <td>Oc1ccc(O)cc1</td>\n",
       "      <td>hydroquinone</td>\n",
       "      <td>False</td>\n",
       "      <td>False</td>\n",
       "    </tr>\n",
       "    <tr>\n",
       "      <th>91</th>\n",
       "      <td>C(Cc1c[nH]c2ccccc12)Nc1ccc(Nc2ccncc2)cc1</td>\n",
       "      <td>serdemetan</td>\n",
       "      <td>False</td>\n",
       "      <td>False</td>\n",
       "    </tr>\n",
       "    <tr>\n",
       "      <th>94</th>\n",
       "      <td>C(Nc1nc(NCc2ccccc2)c2ccccc2n1)c1ccccc1</td>\n",
       "      <td>DBeQ</td>\n",
       "      <td>False</td>\n",
       "      <td>False</td>\n",
       "    </tr>\n",
       "    <tr>\n",
       "      <th>95</th>\n",
       "      <td>CCNCCc1ccc(CN(CC)c2cc(OC)ccc2[C@@H]2CCc3cc(O)c...</td>\n",
       "      <td>elacestrant</td>\n",
       "      <td>False</td>\n",
       "      <td>False</td>\n",
       "    </tr>\n",
       "    <tr>\n",
       "      <th>...</th>\n",
       "      <td>...</td>\n",
       "      <td>...</td>\n",
       "      <td>...</td>\n",
       "      <td>...</td>\n",
       "    </tr>\n",
       "    <tr>\n",
       "      <th>6715</th>\n",
       "      <td>CC(O)(CC(O)=O)CC(O)=O</td>\n",
       "      <td>meglutol</td>\n",
       "      <td>False</td>\n",
       "      <td>False</td>\n",
       "    </tr>\n",
       "    <tr>\n",
       "      <th>6716</th>\n",
       "      <td>CCCCCCCCN[C@H](C)[C@@H](O)c1ccc(SC(C)C)cc1 |&amp;1...</td>\n",
       "      <td>suloctidil</td>\n",
       "      <td>False</td>\n",
       "      <td>False</td>\n",
       "    </tr>\n",
       "    <tr>\n",
       "      <th>6717</th>\n",
       "      <td>CCc1nn(CCCN2CCN(CC2)c2cccc(Cl)c2)c(=O)n1CCOc1c...</td>\n",
       "      <td>nefazodone</td>\n",
       "      <td>False</td>\n",
       "      <td>False</td>\n",
       "    </tr>\n",
       "    <tr>\n",
       "      <th>6718</th>\n",
       "      <td>NC[C@H]1O[C@H](O[C@@H]2[C@@H](N)C[C@@H](N)[C@H...</td>\n",
       "      <td>ribostamycin</td>\n",
       "      <td>False</td>\n",
       "      <td>False</td>\n",
       "    </tr>\n",
       "    <tr>\n",
       "      <th>6719</th>\n",
       "      <td>C1CCC(CC1)n1cnc2c(Nc3ccc(cc3)N3CCOCC3)nc(Oc3cc...</td>\n",
       "      <td>purmorphamine</td>\n",
       "      <td>False</td>\n",
       "      <td>False</td>\n",
       "    </tr>\n",
       "  </tbody>\n",
       "</table>\n",
       "<p>6549 rows × 4 columns</p>\n",
       "</div>"
      ],
      "text/plain": [
       "                                                 SMILES           Name  \\\n",
       "86       CCn1c2ccccc2c2cc(Nc3ccnc(NCCCN4CCOCC4)n3)ccc12       EHop-016   \n",
       "87                                         Oc1ccc(O)cc1   hydroquinone   \n",
       "91             C(Cc1c[nH]c2ccccc12)Nc1ccc(Nc2ccncc2)cc1     serdemetan   \n",
       "94               C(Nc1nc(NCc2ccccc2)c2ccccc2n1)c1ccccc1           DBeQ   \n",
       "95    CCNCCc1ccc(CN(CC)c2cc(OC)ccc2[C@@H]2CCc3cc(O)c...    elacestrant   \n",
       "...                                                 ...            ...   \n",
       "6715                              CC(O)(CC(O)=O)CC(O)=O       meglutol   \n",
       "6716  CCCCCCCCN[C@H](C)[C@@H](O)c1ccc(SC(C)C)cc1 |&1...     suloctidil   \n",
       "6717  CCc1nn(CCCN2CCN(CC2)c2cccc(Cl)c2)c(=O)n1CCOc1c...     nefazodone   \n",
       "6718  NC[C@H]1O[C@H](O[C@@H]2[C@@H](N)C[C@@H](N)[C@H...   ribostamycin   \n",
       "6719  C1CCC(CC1)n1cnc2c(Nc3ccc(cc3)N3CCOCC3)nc(Oc3cc...  purmorphamine   \n",
       "\n",
       "      hit_inh  hit_kill  \n",
       "86      False     False  \n",
       "87      False     False  \n",
       "91      False     False  \n",
       "94      False     False  \n",
       "95      False     False  \n",
       "...       ...       ...  \n",
       "6715    False     False  \n",
       "6716    False     False  \n",
       "6717    False     False  \n",
       "6718    False     False  \n",
       "6719    False     False  \n",
       "\n",
       "[6549 rows x 4 columns]"
      ]
     },
     "execution_count": 9,
     "metadata": {},
     "output_type": "execute_result"
    }
   ],
   "source": [
    "classamols"
   ]
  },
  {
   "cell_type": "markdown",
   "metadata": {},
   "source": [
    "# Part 4: Finalize data splits for ML"
   ]
  },
  {
   "cell_type": "code",
   "execution_count": null,
   "metadata": {},
   "outputs": [],
   "source": [
    "# did not change paths here since I did not re-run - did not want randomness to get overwritten\n",
    "test['hit_inh'] = [int(x) for x in list(test['hit_inh'])]\n",
    "test['hit_kill'] = [int(x) for x in list(test['hit_kill'])]\n",
    "\n",
    "# define as 80% train / 20% test set; within 80% train, will further separate into 80/10/10 train/val/test and do hyperparameter optimization on the 80% train set\n",
    "perc_train = 0.8\n",
    "\n",
    "# first define a positive sample as anything with activity in either inh or killing contexts\n",
    "pos = test[~classa]\n",
    "postrain = pos.sample(frac=perc_train)\n",
    "postrainnames = list(postrain['SMILES'])\n",
    "postest = pd.DataFrame()\n",
    "for i, r in pos.iterrows():\n",
    "    if r['SMILES'] not in postrainnames:\n",
    "        postest = postest.append(r)\n",
    "\n",
    "# negative is neither inhibitory nor killing\n",
    "neg = test[classa]\n",
    "negtrain = neg.sample(frac=perc_train)\n",
    "negtrainnames = list(negtrain['SMILES'])\n",
    "negtest = pd.DataFrame()\n",
    "for i, r in neg.iterrows():\n",
    "    if r['SMILES'] not in negtrainnames:\n",
    "        negtest = negtest.append(r)\n",
    "\n",
    "# make train and test dfs\n",
    "traindf = pd.concat([postrain, negtrain])\n",
    "testdf = pd.concat([postest, negtest])\n",
    "\n",
    "# carrying over the exact train and test sets we used for model training\n",
    "# don't run again because the different randomness would change the splits\n",
    "\n",
    "#traindf.to_csv('../out/data_prep_for_ml_trainset.csv', index = False)\n",
    "#testdf.to_csv('../out/data_prep_for_ml_testset.csv', index = False)\n",
    "fulldf = pd.concat([traindf, testdf])\n",
    "#fulldf.to_csv('../out/data_prep_for_ml_fullset.csv', index = False)"
   ]
  },
  {
   "cell_type": "markdown",
   "metadata": {},
   "source": [
    "# Part 5: Scatterplot of inhibition vs killing"
   ]
  },
  {
   "cell_type": "code",
   "execution_count": 11,
   "metadata": {},
   "outputs": [
    {
     "data": {
      "text/html": [
       "<div>\n",
       "<style scoped>\n",
       "    .dataframe tbody tr th:only-of-type {\n",
       "        vertical-align: middle;\n",
       "    }\n",
       "\n",
       "    .dataframe tbody tr th {\n",
       "        vertical-align: top;\n",
       "    }\n",
       "\n",
       "    .dataframe thead th {\n",
       "        text-align: right;\n",
       "    }\n",
       "</style>\n",
       "<table border=\"1\" class=\"dataframe\">\n",
       "  <thead>\n",
       "    <tr style=\"text-align: right;\">\n",
       "      <th></th>\n",
       "      <th>Mean_Inhibition</th>\n",
       "      <th>Mean_Killing</th>\n",
       "    </tr>\n",
       "  </thead>\n",
       "  <tbody>\n",
       "    <tr>\n",
       "      <th>0</th>\n",
       "      <td>0.071661</td>\n",
       "      <td>0.083945</td>\n",
       "    </tr>\n",
       "    <tr>\n",
       "      <th>1</th>\n",
       "      <td>0.135632</td>\n",
       "      <td>0.082339</td>\n",
       "    </tr>\n",
       "    <tr>\n",
       "      <th>2</th>\n",
       "      <td>0.167846</td>\n",
       "      <td>0.076781</td>\n",
       "    </tr>\n",
       "    <tr>\n",
       "      <th>3</th>\n",
       "      <td>0.766983</td>\n",
       "      <td>0.078405</td>\n",
       "    </tr>\n",
       "    <tr>\n",
       "      <th>4</th>\n",
       "      <td>0.076002</td>\n",
       "      <td>0.092234</td>\n",
       "    </tr>\n",
       "    <tr>\n",
       "      <th>...</th>\n",
       "      <td>...</td>\n",
       "      <td>...</td>\n",
       "    </tr>\n",
       "    <tr>\n",
       "      <th>6715</th>\n",
       "      <td>1.018585</td>\n",
       "      <td>1.551364</td>\n",
       "    </tr>\n",
       "    <tr>\n",
       "      <th>6716</th>\n",
       "      <td>0.982712</td>\n",
       "      <td>1.627268</td>\n",
       "    </tr>\n",
       "    <tr>\n",
       "      <th>6717</th>\n",
       "      <td>1.069913</td>\n",
       "      <td>1.687363</td>\n",
       "    </tr>\n",
       "    <tr>\n",
       "      <th>6718</th>\n",
       "      <td>1.068834</td>\n",
       "      <td>1.822382</td>\n",
       "    </tr>\n",
       "    <tr>\n",
       "      <th>6719</th>\n",
       "      <td>0.992248</td>\n",
       "      <td>NaN</td>\n",
       "    </tr>\n",
       "  </tbody>\n",
       "</table>\n",
       "<p>6720 rows × 2 columns</p>\n",
       "</div>"
      ],
      "text/plain": [
       "      Mean_Inhibition  Mean_Killing\n",
       "0            0.071661      0.083945\n",
       "1            0.135632      0.082339\n",
       "2            0.167846      0.076781\n",
       "3            0.766983      0.078405\n",
       "4            0.076002      0.092234\n",
       "...               ...           ...\n",
       "6715         1.018585      1.551364\n",
       "6716         0.982712      1.627268\n",
       "6717         1.069913      1.687363\n",
       "6718         1.068834      1.822382\n",
       "6719         0.992248           NaN\n",
       "\n",
       "[6720 rows x 2 columns]"
      ]
     },
     "execution_count": 11,
     "metadata": {},
     "output_type": "execute_result"
    }
   ],
   "source": [
    "# grab just the average killing and inibition ODs for plotting\n",
    "df = pd.read_excel(data_path + 'TrainingDataRound1_wValidation.xlsx')\n",
    "df = df[['Mean_Inhibition', 'Mean_Killing']]\n",
    "df"
   ]
  },
  {
   "cell_type": "code",
   "execution_count": 12,
   "metadata": {},
   "outputs": [
    {
     "data": {
      "image/png": "[encoded data removed]",
      "text/plain": [
       "<Figure size 900x600 with 1 Axes>"
      ]
     },
     "metadata": {
      "needs_background": "light"
     },
     "output_type": "display_data"
    }
   ],
   "source": [
    "# plot avg inhibition OD vs avg killing OD\n",
    "fig, ax = plt.subplots(dpi = 150)\n",
    "plt.scatter(df['Mean_Inhibition'], df['Mean_Killing'], color = 'c', edgecolor = 'black', s =10)\n",
    "plt.vlines(0.2, 0, 2, linestyles = 'dashed', color = 'k')\n",
    "plt.hlines(0.2, 0, 2, linestyles = 'dashed', color = 'k')\n",
    "plt.xlabel('Inhibition OD600')\n",
    "plt.ylabel('Killing OD600')\n",
    "ax.spines['right'].set_visible(False)\n",
    "ax.spines['top'].set_visible(False)\n",
    "plt.savefig('../figure_panels/1E_scatterplot.png')"
   ]
  }
 ],
 "metadata": {
  "kernelspec": {
   "display_name": "chemprop010821",
   "language": "python",
   "name": "chemprop010821"
  },
  "language_info": {
   "codemirror_mode": {
    "name": "ipython",
    "version": 3
   },
   "file_extension": ".py",
   "mimetype": "text/x-python",
   "name": "python",
   "nbconvert_exporter": "python",
   "pygments_lexer": "ipython3",
   "version": "3.8.6"
  }
 },
 "nbformat": 4,
 "nbformat_minor": 2
}
