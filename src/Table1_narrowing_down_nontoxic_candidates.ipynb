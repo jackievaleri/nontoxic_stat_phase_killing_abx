{
 "cells": [
  {
   "cell_type": "code",
   "execution_count": 1,
   "id": "647a57e7",
   "metadata": {},
   "outputs": [],
   "source": [
    "import numpy as np\n",
    "import pandas as pd\n",
    "import matplotlib.pyplot as plt\n",
    "import seaborn as sns\n",
    "\n",
    "import rdkit\n",
    "from rdkit import Chem\n",
    "from rdkit import DataStructs\n",
    "from rdkit.Chem.Draw import rdMolDraw2D"
   ]
  },
  {
   "cell_type": "markdown",
   "id": "d762f729",
   "metadata": {},
   "source": [
    "# Part 1: Identify candidates that are most structurally distinct from known antibiotics"
   ]
  },
  {
   "cell_type": "code",
   "execution_count": 2,
   "id": "4ee498f7",
   "metadata": {},
   "outputs": [
    {
     "data": {
      "text/html": [
       "<div>\n",
       "<style scoped>\n",
       "    .dataframe tbody tr th:only-of-type {\n",
       "        vertical-align: middle;\n",
       "    }\n",
       "\n",
       "    .dataframe tbody tr th {\n",
       "        vertical-align: top;\n",
       "    }\n",
       "\n",
       "    .dataframe thead th {\n",
       "        text-align: right;\n",
       "    }\n",
       "</style>\n",
       "<table border=\"1\" class=\"dataframe\">\n",
       "  <thead>\n",
       "    <tr style=\"text-align: right;\">\n",
       "      <th></th>\n",
       "      <th>SMILES</th>\n",
       "      <th>Name</th>\n",
       "      <th>hit_inh</th>\n",
       "      <th>hit_kill</th>\n",
       "    </tr>\n",
       "  </thead>\n",
       "  <tbody>\n",
       "    <tr>\n",
       "      <th>0</th>\n",
       "      <td>CCCC[C@H](CC)CNC(=N)N=C(N)NCCCCCCNC(N)=NC(=N)N...</td>\n",
       "      <td>alexidine</td>\n",
       "      <td>1</td>\n",
       "      <td>1</td>\n",
       "    </tr>\n",
       "    <tr>\n",
       "      <th>1</th>\n",
       "      <td>NC(Nc1ccc(Cl)cc1)=NC(=N)NCCCCCCNC(=N)N=C(N)Nc1...</td>\n",
       "      <td>chlorhexidine</td>\n",
       "      <td>1</td>\n",
       "      <td>1</td>\n",
       "    </tr>\n",
       "    <tr>\n",
       "      <th>2</th>\n",
       "      <td>CC[C@@H](C)CCCCC(=O)N[C@@H](CCN)C(=O)N[C@@H]([...</td>\n",
       "      <td>polymyxin-B-sulfate</td>\n",
       "      <td>1</td>\n",
       "      <td>1</td>\n",
       "    </tr>\n",
       "    <tr>\n",
       "      <th>3</th>\n",
       "      <td>OCCN[C@H]1CCCc2c1[nH]c1ccc(cc21)-c1ccccc1 |&amp;1:...</td>\n",
       "      <td>casin</td>\n",
       "      <td>1</td>\n",
       "      <td>1</td>\n",
       "    </tr>\n",
       "    <tr>\n",
       "      <th>4</th>\n",
       "      <td>NC[C@H]1O[C@H](O[C@@H]2[C@@H](N)C[C@@H](N)[C@H...</td>\n",
       "      <td>bekanamycin</td>\n",
       "      <td>1</td>\n",
       "      <td>1</td>\n",
       "    </tr>\n",
       "    <tr>\n",
       "      <th>...</th>\n",
       "      <td>...</td>\n",
       "      <td>...</td>\n",
       "      <td>...</td>\n",
       "      <td>...</td>\n",
       "    </tr>\n",
       "    <tr>\n",
       "      <th>95</th>\n",
       "      <td>CC(=O)O[Pt+4](C)(C)(Cl)(Cl)OC(=O)C.NC1CCCCC1</td>\n",
       "      <td>BRD-M31395033</td>\n",
       "      <td>0</td>\n",
       "      <td>1</td>\n",
       "    </tr>\n",
       "    <tr>\n",
       "      <th>96</th>\n",
       "      <td>CN(C)c1ccc(cc1)[C+](c1ccc(cc1)N(C)C)c1ccc(cc1)...</td>\n",
       "      <td>BRD-K60025295</td>\n",
       "      <td>0</td>\n",
       "      <td>1</td>\n",
       "    </tr>\n",
       "    <tr>\n",
       "      <th>97</th>\n",
       "      <td>CN1CCN(CC1)c1c(cc2c3c1OCN(C)N3C=C(C(=O)O)C2=O)F</td>\n",
       "      <td>BRD-K71926323</td>\n",
       "      <td>1</td>\n",
       "      <td>1</td>\n",
       "    </tr>\n",
       "    <tr>\n",
       "      <th>98</th>\n",
       "      <td>CC(C)c1ccc(cc1)Cn1ccc2c1ccc1nc(nc(c12)N)NC1CC1</td>\n",
       "      <td>BRD-K17140735</td>\n",
       "      <td>1</td>\n",
       "      <td>1</td>\n",
       "    </tr>\n",
       "    <tr>\n",
       "      <th>99</th>\n",
       "      <td>CC(C)CCNC[C@@H](O)Cn1c2ccccc2c2ccccc12</td>\n",
       "      <td>BRD-A87865091</td>\n",
       "      <td>0</td>\n",
       "      <td>1</td>\n",
       "    </tr>\n",
       "  </tbody>\n",
       "</table>\n",
       "<p>100 rows × 4 columns</p>\n",
       "</div>"
      ],
      "text/plain": [
       "                                               SMILES                 Name  \\\n",
       "0   CCCC[C@H](CC)CNC(=N)N=C(N)NCCCCCCNC(N)=NC(=N)N...            alexidine   \n",
       "1   NC(Nc1ccc(Cl)cc1)=NC(=N)NCCCCCCNC(=N)N=C(N)Nc1...        chlorhexidine   \n",
       "2   CC[C@@H](C)CCCCC(=O)N[C@@H](CCN)C(=O)N[C@@H]([...  polymyxin-B-sulfate   \n",
       "3   OCCN[C@H]1CCCc2c1[nH]c1ccc(cc21)-c1ccccc1 |&1:...                casin   \n",
       "4   NC[C@H]1O[C@H](O[C@@H]2[C@@H](N)C[C@@H](N)[C@H...          bekanamycin   \n",
       "..                                                ...                  ...   \n",
       "95       CC(=O)O[Pt+4](C)(C)(Cl)(Cl)OC(=O)C.NC1CCCCC1        BRD-M31395033   \n",
       "96  CN(C)c1ccc(cc1)[C+](c1ccc(cc1)N(C)C)c1ccc(cc1)...        BRD-K60025295   \n",
       "97    CN1CCN(CC1)c1c(cc2c3c1OCN(C)N3C=C(C(=O)O)C2=O)F        BRD-K71926323   \n",
       "98     CC(C)c1ccc(cc1)Cn1ccc2c1ccc1nc(nc(c12)N)NC1CC1        BRD-K17140735   \n",
       "99             CC(C)CCNC[C@@H](O)Cn1c2ccccc2c2ccccc12        BRD-A87865091   \n",
       "\n",
       "    hit_inh  hit_kill  \n",
       "0         1         1  \n",
       "1         1         1  \n",
       "2         1         1  \n",
       "3         1         1  \n",
       "4         1         1  \n",
       "..      ...       ...  \n",
       "95        0         1  \n",
       "96        0         1  \n",
       "97        1         1  \n",
       "98        1         1  \n",
       "99        0         1  \n",
       "\n",
       "[100 rows x 4 columns]"
      ]
     },
     "execution_count": 2,
     "metadata": {},
     "output_type": "execute_result"
    }
   ],
   "source": [
    "# get hits from primary screen and ML screen\n",
    "df = pd.read_csv('../data/training_plus_ml_curation_hits.csv')\n",
    "df"
   ]
  },
  {
   "cell_type": "code",
   "execution_count": 3,
   "id": "b8fa0642",
   "metadata": {},
   "outputs": [
    {
     "data": {
      "text/html": [
       "<div>\n",
       "<style scoped>\n",
       "    .dataframe tbody tr th:only-of-type {\n",
       "        vertical-align: middle;\n",
       "    }\n",
       "\n",
       "    .dataframe tbody tr th {\n",
       "        vertical-align: top;\n",
       "    }\n",
       "\n",
       "    .dataframe thead th {\n",
       "        text-align: right;\n",
       "    }\n",
       "</style>\n",
       "<table border=\"1\" class=\"dataframe\">\n",
       "  <thead>\n",
       "    <tr style=\"text-align: right;\">\n",
       "      <th></th>\n",
       "      <th>SMILES</th>\n",
       "      <th>Name</th>\n",
       "      <th>hit_inh</th>\n",
       "      <th>hit_kill</th>\n",
       "    </tr>\n",
       "  </thead>\n",
       "  <tbody>\n",
       "    <tr>\n",
       "      <th>4</th>\n",
       "      <td>NC[C@H]1O[C@H](O[C@@H]2[C@@H](N)C[C@@H](N)[C@H...</td>\n",
       "      <td>bekanamycin</td>\n",
       "      <td>1</td>\n",
       "      <td>1</td>\n",
       "    </tr>\n",
       "    <tr>\n",
       "      <th>24</th>\n",
       "      <td>CC(=NNC(N)=N)c1cc(NC(=O)CCCCCCCCC(=O)Nc2cc(cc(...</td>\n",
       "      <td>semapimod</td>\n",
       "      <td>1</td>\n",
       "      <td>1</td>\n",
       "    </tr>\n",
       "    <tr>\n",
       "      <th>43</th>\n",
       "      <td>NCCCC[C@H](N)C(=O)N[C@@H](CCCCN)C(=O)N[C@@H](C...</td>\n",
       "      <td>LTX-315</td>\n",
       "      <td>1</td>\n",
       "      <td>1</td>\n",
       "    </tr>\n",
       "    <tr>\n",
       "      <th>50</th>\n",
       "      <td>O[C@@H](CN1CCNCC1)Cn1c2ccc(Br)cc2c2cc(Br)ccc12...</td>\n",
       "      <td>BAX-channel-blocker</td>\n",
       "      <td>1</td>\n",
       "      <td>1</td>\n",
       "    </tr>\n",
       "    <tr>\n",
       "      <th>63</th>\n",
       "      <td>[H][C@@]12Cc3c(F)cc(NC(=O)CN4CCCC4)c(O)c3C(=O)...</td>\n",
       "      <td>eravacycline</td>\n",
       "      <td>1</td>\n",
       "      <td>1</td>\n",
       "    </tr>\n",
       "  </tbody>\n",
       "</table>\n",
       "</div>"
      ],
      "text/plain": [
       "                                               SMILES                 Name  \\\n",
       "4   NC[C@H]1O[C@H](O[C@@H]2[C@@H](N)C[C@@H](N)[C@H...          bekanamycin   \n",
       "24  CC(=NNC(N)=N)c1cc(NC(=O)CCCCCCCCC(=O)Nc2cc(cc(...            semapimod   \n",
       "43  NCCCC[C@H](N)C(=O)N[C@@H](CCCCN)C(=O)N[C@@H](C...              LTX-315   \n",
       "50  O[C@@H](CN1CCNCC1)Cn1c2ccc(Br)cc2c2cc(Br)ccc12...  BAX-channel-blocker   \n",
       "63  [H][C@@]12Cc3c(F)cc(NC(=O)CN4CCCC4)c(O)c3C(=O)...         eravacycline   \n",
       "\n",
       "    hit_inh  hit_kill  \n",
       "4         1         1  \n",
       "24        1         1  \n",
       "43        1         1  \n",
       "50        1         1  \n",
       "63        1         1  "
      ]
     },
     "execution_count": 3,
     "metadata": {},
     "output_type": "execute_result"
    }
   ],
   "source": [
    "# look at final candidates manually\n",
    "final_candidates = ['bekanamycin', 'eravacycline', 'LTX-315', 'BAX-channel-blocker', 'semapimod']\n",
    "finaldf = df[[name in final_candidates for name in list(df['Name'])]]\n",
    "finaldf"
   ]
  },
  {
   "cell_type": "code",
   "execution_count": 4,
   "id": "87f98323",
   "metadata": {},
   "outputs": [
    {
     "name": "stderr",
     "output_type": "stream",
     "text": [
      "[16:56:44] WARNING: not removing hydrogen atom without neighbors\n",
      "/var/folders/py/8hwb28r933z4xh4q0dw5hz2h0000gn/T/ipykernel_22170/531951429.py:25: SettingWithCopyWarning: \n",
      "A value is trying to be set on a copy of a slice from a DataFrame.\n",
      "Try using .loc[row_indexer,col_indexer] = value instead\n",
      "\n",
      "See the caveats in the documentation: https://pandas.pydata.org/pandas-docs/stable/user_guide/indexing.html#returning-a-view-versus-a-copy\n",
      "  finaldf['max TS to abx'] = maxes\n"
     ]
    },
    {
     "data": {
      "text/html": [
       "<div>\n",
       "<style scoped>\n",
       "    .dataframe tbody tr th:only-of-type {\n",
       "        vertical-align: middle;\n",
       "    }\n",
       "\n",
       "    .dataframe tbody tr th {\n",
       "        vertical-align: top;\n",
       "    }\n",
       "\n",
       "    .dataframe thead th {\n",
       "        text-align: right;\n",
       "    }\n",
       "</style>\n",
       "<table border=\"1\" class=\"dataframe\">\n",
       "  <thead>\n",
       "    <tr style=\"text-align: right;\">\n",
       "      <th></th>\n",
       "      <th>SMILES</th>\n",
       "      <th>Name</th>\n",
       "      <th>hit_inh</th>\n",
       "      <th>hit_kill</th>\n",
       "      <th>max TS to abx</th>\n",
       "    </tr>\n",
       "  </thead>\n",
       "  <tbody>\n",
       "    <tr>\n",
       "      <th>24</th>\n",
       "      <td>CC(=NNC(N)=N)c1cc(NC(=O)CCCCCCCCC(=O)Nc2cc(cc(...</td>\n",
       "      <td>semapimod</td>\n",
       "      <td>1</td>\n",
       "      <td>1</td>\n",
       "      <td>0.312606</td>\n",
       "    </tr>\n",
       "    <tr>\n",
       "      <th>50</th>\n",
       "      <td>O[C@@H](CN1CCNCC1)Cn1c2ccc(Br)cc2c2cc(Br)ccc12...</td>\n",
       "      <td>BAX-channel-blocker</td>\n",
       "      <td>1</td>\n",
       "      <td>1</td>\n",
       "      <td>0.386870</td>\n",
       "    </tr>\n",
       "    <tr>\n",
       "      <th>63</th>\n",
       "      <td>[H][C@@]12Cc3c(F)cc(NC(=O)CN4CCCC4)c(O)c3C(=O)...</td>\n",
       "      <td>eravacycline</td>\n",
       "      <td>1</td>\n",
       "      <td>1</td>\n",
       "      <td>0.767637</td>\n",
       "    </tr>\n",
       "    <tr>\n",
       "      <th>43</th>\n",
       "      <td>NCCCC[C@H](N)C(=O)N[C@@H](CCCCN)C(=O)N[C@@H](C...</td>\n",
       "      <td>LTX-315</td>\n",
       "      <td>1</td>\n",
       "      <td>1</td>\n",
       "      <td>0.796165</td>\n",
       "    </tr>\n",
       "    <tr>\n",
       "      <th>4</th>\n",
       "      <td>NC[C@H]1O[C@H](O[C@@H]2[C@@H](N)C[C@@H](N)[C@H...</td>\n",
       "      <td>bekanamycin</td>\n",
       "      <td>1</td>\n",
       "      <td>1</td>\n",
       "      <td>1.000000</td>\n",
       "    </tr>\n",
       "  </tbody>\n",
       "</table>\n",
       "</div>"
      ],
      "text/plain": [
       "                                               SMILES                 Name  \\\n",
       "24  CC(=NNC(N)=N)c1cc(NC(=O)CCCCCCCCC(=O)Nc2cc(cc(...            semapimod   \n",
       "50  O[C@@H](CN1CCNCC1)Cn1c2ccc(Br)cc2c2cc(Br)ccc12...  BAX-channel-blocker   \n",
       "63  [H][C@@]12Cc3c(F)cc(NC(=O)CN4CCCC4)c(O)c3C(=O)...         eravacycline   \n",
       "43  NCCCC[C@H](N)C(=O)N[C@@H](CCCCN)C(=O)N[C@@H](C...              LTX-315   \n",
       "4   NC[C@H]1O[C@H](O[C@@H]2[C@@H](N)C[C@@H](N)[C@H...          bekanamycin   \n",
       "\n",
       "    hit_inh  hit_kill  max TS to abx  \n",
       "24        1         1       0.312606  \n",
       "50        1         1       0.386870  \n",
       "63        1         1       0.767637  \n",
       "43        1         1       0.796165  \n",
       "4         1         1       1.000000  "
      ]
     },
     "execution_count": 4,
     "metadata": {},
     "output_type": "execute_result"
    }
   ],
   "source": [
    "# get the fingerprints from the antibiotics curated dataset\n",
    "df = pd.read_csv('../data/curated_set_of_566_abx.csv')\n",
    "df['SMILES'] = df['Smiles']\n",
    "df = df[['Name', 'SMILES']]\n",
    "not_nans = [type(smi) != float for smi in list(df['SMILES'])]\n",
    "df = df[not_nans]\n",
    "\n",
    "smiles = list(df['SMILES'])\n",
    "names = list(df['Name'])\n",
    "abx = [Chem.MolFromSmiles(x) for x in smiles]\n",
    "abx_fps = [Chem.RDKFingerprint(x) for x in abx]\n",
    "\n",
    "# calculate tanimoto similarity against the set of antibiotics\n",
    "def compute_highest_tanimoto_against_all_abx(smis):\n",
    "    mols = [Chem.MolFromSmiles(smi) for smi in smis]\n",
    "    mols_fp = [Chem.RDKFingerprint(mol) for mol in mols]\n",
    "    maximums = []\n",
    "    for mol_fp in mols_fp:\n",
    "        sims = [DataStructs.FingerprintSimilarity(mol_fp,abx_fp) for abx_fp in abx_fps]\n",
    "        maximums.append(np.max(sims))\n",
    "    return(maximums)\n",
    "\n",
    "# compute TS from these final compounds to antibiotics\n",
    "maxes = compute_highest_tanimoto_against_all_abx(list(finaldf['SMILES']))\n",
    "finaldf['max TS to abx'] = maxes\n",
    "finaldf = finaldf.sort_values('max TS to abx', ascending = True)\n",
    "finaldf"
   ]
  },
  {
   "cell_type": "markdown",
   "id": "e9360425",
   "metadata": {},
   "source": [
    "# Part 2: Compute tanimoto similarity against all abx"
   ]
  },
  {
   "cell_type": "markdown",
   "id": "249b9dfb",
   "metadata": {},
   "source": [
    "## Makes up the data for a sentence in the results"
   ]
  },
  {
   "cell_type": "code",
   "execution_count": 5,
   "id": "11793597",
   "metadata": {},
   "outputs": [
    {
     "data": {
      "text/html": [
       "<div>\n",
       "<style scoped>\n",
       "    .dataframe tbody tr th:only-of-type {\n",
       "        vertical-align: middle;\n",
       "    }\n",
       "\n",
       "    .dataframe tbody tr th {\n",
       "        vertical-align: top;\n",
       "    }\n",
       "\n",
       "    .dataframe thead th {\n",
       "        text-align: right;\n",
       "    }\n",
       "</style>\n",
       "<table border=\"1\" class=\"dataframe\">\n",
       "  <thead>\n",
       "    <tr style=\"text-align: right;\">\n",
       "      <th></th>\n",
       "      <th>Tanimoto</th>\n",
       "      <th>Abx</th>\n",
       "    </tr>\n",
       "  </thead>\n",
       "  <tbody>\n",
       "    <tr>\n",
       "      <th>227</th>\n",
       "      <td>0.312606</td>\n",
       "      <td>BRILACIDIN</td>\n",
       "    </tr>\n",
       "    <tr>\n",
       "      <th>132</th>\n",
       "      <td>0.311306</td>\n",
       "      <td>RETASPIMYCIN</td>\n",
       "    </tr>\n",
       "    <tr>\n",
       "      <th>346</th>\n",
       "      <td>0.281654</td>\n",
       "      <td>ERTAPENEM SODIUM</td>\n",
       "    </tr>\n",
       "    <tr>\n",
       "      <th>178</th>\n",
       "      <td>0.281654</td>\n",
       "      <td>ERTAPENEM</td>\n",
       "    </tr>\n",
       "    <tr>\n",
       "      <th>454</th>\n",
       "      <td>0.281346</td>\n",
       "      <td>POSIZOLID</td>\n",
       "    </tr>\n",
       "    <tr>\n",
       "      <th>...</th>\n",
       "      <td>...</td>\n",
       "      <td>...</td>\n",
       "    </tr>\n",
       "    <tr>\n",
       "      <th>485</th>\n",
       "      <td>0.032787</td>\n",
       "      <td>PHENOL</td>\n",
       "    </tr>\n",
       "    <tr>\n",
       "      <th>503</th>\n",
       "      <td>0.005597</td>\n",
       "      <td>SILVER NITRATE</td>\n",
       "    </tr>\n",
       "    <tr>\n",
       "      <th>497</th>\n",
       "      <td>0.001887</td>\n",
       "      <td>IODINE</td>\n",
       "    </tr>\n",
       "    <tr>\n",
       "      <th>490</th>\n",
       "      <td>0.000000</td>\n",
       "      <td>SILVER</td>\n",
       "    </tr>\n",
       "    <tr>\n",
       "      <th>506</th>\n",
       "      <td>0.000000</td>\n",
       "      <td>HYDROGEN PEROXIDE</td>\n",
       "    </tr>\n",
       "  </tbody>\n",
       "</table>\n",
       "<p>566 rows × 2 columns</p>\n",
       "</div>"
      ],
      "text/plain": [
       "     Tanimoto                Abx\n",
       "227  0.312606         BRILACIDIN\n",
       "132  0.311306       RETASPIMYCIN\n",
       "346  0.281654   ERTAPENEM SODIUM\n",
       "178  0.281654          ERTAPENEM\n",
       "454  0.281346          POSIZOLID\n",
       "..        ...                ...\n",
       "485  0.032787             PHENOL\n",
       "503  0.005597     SILVER NITRATE\n",
       "497  0.001887             IODINE\n",
       "490  0.000000             SILVER\n",
       "506  0.000000  HYDROGEN PEROXIDE\n",
       "\n",
       "[566 rows x 2 columns]"
      ]
     },
     "execution_count": 5,
     "metadata": {},
     "output_type": "execute_result"
    }
   ],
   "source": [
    "# compute the tanimoto similarity from one drug to a long list of drugs - specifically all the antibiotics\n",
    "def compute_tanimoto_against_all_abx(smi):\n",
    "    mol = Chem.MolFromSmiles(smi)\n",
    "    mol_fp = Chem.RDKFingerprint(mol)\n",
    "    sims = [DataStructs.FingerprintSimilarity(mol_fp,abx_fp) for abx_fp in abx_fps]\n",
    "    \n",
    "    sim_df = pd.DataFrame()\n",
    "    sim_df['Tanimoto'] = sims\n",
    "    sim_df['Abx'] = names\n",
    "    sim_df = sim_df.sort_values(by = 'Tanimoto', ascending = False)\n",
    "    return(sim_df)\n",
    "\n",
    "# compute similarity from semapimod to all antibiotics in this dataset\n",
    "sema = finaldf[finaldf['Name'] == 'semapimod']\n",
    "sim_df = compute_tanimoto_against_all_abx(list(sema['SMILES'])[0])\n",
    "sim_df.to_csv('../out/sema_tanimoto_to_nearest_abx.csv', index = False)\n",
    "sim_df"
   ]
  },
  {
   "cell_type": "markdown",
   "id": "6bf57cfe",
   "metadata": {},
   "source": [
    "# Part 3: Plot final molecules for Table 1"
   ]
  },
  {
   "cell_type": "code",
   "execution_count": 6,
   "id": "9c04c8f6",
   "metadata": {},
   "outputs": [
    {
     "name": "stdout",
     "output_type": "stream",
     "text": [
      "semapimod\n",
      "CC(=NNC(N)=N)c1cc(NC(=O)CCCCCCCCC(=O)Nc2cc(cc(c2)C(C)=NNC(N)=N)C(C)=NNC(N)=N)cc(c1)C(C)=NNC(N)=N\n"
     ]
    },
    {
     "data": {
      "image/png": "[encoded data removed]",
      "text/plain": [
       "<rdkit.Chem.rdchem.Mol at 0x7faff190a660>"
      ]
     },
     "metadata": {},
     "output_type": "display_data"
    },
    {
     "name": "stdout",
     "output_type": "stream",
     "text": [
      "BAX-channel-blocker\n",
      "O[C@@H](CN1CCNCC1)Cn1c2ccc(Br)cc2c2cc(Br)ccc12 |&1:1|\n"
     ]
    },
    {
     "data": {
      "image/png": "[encoded data removed]",
      "text/plain": [
       "<rdkit.Chem.rdchem.Mol at 0x7faff190a4a0>"
      ]
     },
     "metadata": {},
     "output_type": "display_data"
    },
    {
     "name": "stdout",
     "output_type": "stream",
     "text": [
      "eravacycline\n",
      "[H][C@@]12Cc3c(F)cc(NC(=O)CN4CCCC4)c(O)c3C(=O)[C@H]1C(=O)[C@]1(O)C(=O)[C@H](C(N)=O)C(=O)[C@@H](N(C)C)[C@]1([H])C2 |&1:29,&2:22|\n"
     ]
    },
    {
     "data": {
      "image/png": "[encoded data removed]",
      "text/plain": [
       "<rdkit.Chem.rdchem.Mol at 0x7faff190a660>"
      ]
     },
     "metadata": {},
     "output_type": "display_data"
    },
    {
     "name": "stdout",
     "output_type": "stream",
     "text": [
      "LTX-315\n",
      "NCCCC[C@H](N)C(=O)N[C@@H](CCCCN)C(=O)N[C@@H](Cc1c[nH]c2ccccc12)C(=O)N[C@@H](Cc1c[nH]c2ccccc12)C(=O)N[C@@H](CCCCN)C(=O)N[C@@H](CCCCN)C(=O)N[C@@H](Cc1c[nH]c2ccccc12)C(=O)N[C@@H](C(c1ccccc1)c1ccccc1)C(=O)N[C@@H](CCCCN)C(N)=O\n"
     ]
    },
    {
     "data": {
      "image/png": "[encoded data removed]",
      "text/plain": [
       "<rdkit.Chem.rdchem.Mol at 0x7faff18feeb0>"
      ]
     },
     "metadata": {},
     "output_type": "display_data"
    },
    {
     "name": "stdout",
     "output_type": "stream",
     "text": [
      "bekanamycin\n",
      "NC[C@H]1O[C@H](O[C@@H]2[C@@H](N)C[C@@H](N)[C@H](O[C@H]3O[C@H](CO)[C@@H](O)[C@H](N)[C@H]3O)[C@H]2O)[C@H](N)[C@@H](O)[C@@H]1O\n"
     ]
    },
    {
     "data": {
      "image/png": "[encoded data removed]",
      "text/plain": [
       "<rdkit.Chem.rdchem.Mol at 0x7faff190a660>"
      ]
     },
     "metadata": {},
     "output_type": "display_data"
    }
   ],
   "source": [
    "# plot high quality images for each of the final molecules in shortlist\n",
    "for i, row in finaldf.iterrows():\n",
    "    # print metadata\n",
    "    print(row['Name'])\n",
    "    print(row['SMILES'])\n",
    "\n",
    "    # get high quality image\n",
    "    mol = Chem.MolFromSmiles(row['SMILES'])\n",
    "\n",
    "    # Set up drawing options\n",
    "    d2d = rdMolDraw2D.MolDraw2DCairo(1500, 1500)  # Set the size of the drawing\n",
    "    d2d.drawOptions().useBWAtomPalette()\n",
    "    d2d.drawOptions().flagCloseContactsDist = False\n",
    "\n",
    "    # Draw the molecule\n",
    "    d2d.DrawMolecule(mol)\n",
    "\n",
    "    # Finish drawing\n",
    "    d2d.FinishDrawing()\n",
    "\n",
    "    # Save the image\n",
    "    output_path = '../out/final_cpds/' + row['Name'] + '_chem.png'\n",
    "    with open(output_path, 'wb+') as f:\n",
    "        f.write(d2d.GetDrawingText())\n",
    "\n",
    "    display(Chem.MolFromSmiles(row['SMILES']))"
   ]
  }
 ],
 "metadata": {
  "kernelspec": {
   "display_name": "chemprop010821",
   "language": "python",
   "name": "python3"
  },
  "language_info": {
   "codemirror_mode": {
    "name": "ipython",
    "version": 3
   },
   "file_extension": ".py",
   "mimetype": "text/x-python",
   "name": "python",
   "nbconvert_exporter": "python",
   "pygments_lexer": "ipython3",
   "version": "3.8.12"
  }
 },
 "nbformat": 4,
 "nbformat_minor": 5
}
