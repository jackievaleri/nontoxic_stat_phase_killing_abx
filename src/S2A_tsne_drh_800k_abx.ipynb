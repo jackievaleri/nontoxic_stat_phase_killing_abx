{
 "cells": [
  {
   "cell_type": "markdown",
   "metadata": {},
   "source": [
    "# Had to clear all output for file size reasons."
   ]
  },
  {
   "cell_type": "code",
   "execution_count": null,
   "metadata": {},
   "outputs": [],
   "source": [
    "import numpy as np\n",
    "import pandas as pd\n",
    "import matplotlib.pyplot as plt\n",
    "import seaborn as sns\n",
    "import glob\n",
    "import subprocess\n",
    "import os\n",
    "import random\n",
    "import math\n",
    "import time\n",
    "import plotly.express as px\n",
    "\n",
    "import rdkit\n",
    "from rdkit import Chem\n",
    "from rdkit.Chem import Draw\n",
    "from rdkit.Chem import rdmolops\n",
    "from rdkit import DataStructs\n",
    "from rdkit.Chem import AllChem\n",
    "from rdkit.ML.Cluster import Butina\n",
    "\n",
    "# shut off warnings\n",
    "from rdkit import RDLogger                                                                                                                                                               \n",
    "RDLogger.DisableLog('rdApp.*')  \n",
    "\n",
    "import matplotlib\n",
    "from matplotlib import rc\n",
    "font = {'size'   : 8}\n",
    "matplotlib.rc('font', **font)\n",
    "\n",
    "# change font\n",
    "matplotlib.rcParams['font.sans-serif'] = \"Arial\"\n",
    "matplotlib.rcParams['font.family'] = \"sans-serif\"\n",
    "\n",
    "from sklearn.decomposition import PCA\n",
    "from sklearn.manifold import TSNE\n",
    "from sklearn.ensemble import RandomForestClassifier\n",
    "from sklearn.metrics import precision_recall_curve\n",
    "from sklearn.metrics import plot_precision_recall_curve\n",
    "from sklearn.metrics import auc\n",
    "from sklearn.metrics import roc_auc_score"
   ]
  },
  {
   "cell_type": "markdown",
   "metadata": {},
   "source": [
    "# Part 1: Define functions to make PCA & tSNE"
   ]
  },
  {
   "cell_type": "code",
   "execution_count": null,
   "metadata": {},
   "outputs": [],
   "source": [
    "def pca_tsne_mols(fp_list, fp_labels, colors_for_vis, num_components = 2048):\n",
    "    # PCA first\n",
    "    pca = PCA(n_components=2)\n",
    "    crds = pca.fit_transform(fp_list)\n",
    "\n",
    "    print('variance explained by pc1+pc2: ' + str(np.sum(pca.explained_variance_ratio_)))\n",
    "\n",
    "    crds_df = pd.DataFrame(crds,columns=[\"PC_1\",\"PC_2\"])\n",
    "    crds_df['label'] = fp_labels\n",
    "    crds_df.head()\n",
    "\n",
    "    plt.figure(figsize=(5,5), dpi = 300)\n",
    "    ax = sns.scatterplot(data=crds_df,x=\"PC_1\",y=\"PC_2\",hue=\"label\", alpha = 0.7, s = 10, palette=colors_for_vis)\n",
    "    \n",
    "    # TSNE next\n",
    "    pca = PCA(n_components=num_components)\n",
    "    crds = pca.fit_transform(fp_list)\n",
    "\n",
    "    crds_embedded = TSNE(n_components=2).fit_transform(crds)\n",
    "\n",
    "    tsne_df = pd.DataFrame(crds_embedded,columns=[\"X\",\"Y\"])\n",
    "    tsne_df['label'] = fp_labels\n",
    "\n",
    "    plt.figure(figsize=(5,5), dpi = 300)\n",
    "    ax = sns.scatterplot(data=tsne_df,x=\"X\",y=\"Y\",hue=\"label\", alpha = 0.7,  s = 10, palette=colors_for_vis)\n",
    "    plt.legend(bbox_to_anchor=(1.05, 1), loc='upper left')\n",
    "    \n",
    "    plt.show()\n",
    "    \n",
    "    return(tsne_df)"
   ]
  },
  {
   "cell_type": "markdown",
   "metadata": {},
   "source": [
    "# Part 2: Read in and process all possible datasets for comparisons"
   ]
  },
  {
   "cell_type": "code",
   "execution_count": null,
   "metadata": {},
   "outputs": [],
   "source": [
    "# take in ians hits csv - - ONLY ORIGINAL HITS NOT BROAD800K\n",
    "df = pd.read_excel('../data/TrainingDataRound1_wValidation.xlsx')\n",
    "df = df[[type(x) != float for x in list(df['SMILES'])]]\n",
    "print('num drh drugs: ' + str(len(df)))\n",
    "df = df[['SMILES', 'Name']]\n",
    "\n",
    "drh_smiles = list(df['SMILES'])\n",
    "drh_mols = [Chem.MolFromSmiles(x) for x in drh_smiles]\n",
    "drh_fps, drh_names = zip(*[(Chem.RDKFingerprint(x),y) for x,y in zip(drh_mols,list(df['Name'])) if x is not None])\n",
    "\n",
    "# get morgan fingerprints for abx\n",
    "abx = pd.read_csv('../data/curated_set_of_566_abx.csv')\n",
    "abx = abx[[type(x) != float for x in list(abx['Smiles'])]]\n",
    "abx_smiles = list(abx['Smiles'])\n",
    "mols = [Chem.MolFromSmiles(x) for x in abx_smiles]\n",
    "abx_fps, abx_names, abx_classes = zip(*[(Chem.RDKFingerprint(x),y,z) for x,y,z in zip(mols,list(abx['Name']),list(abx['Class-Annotated'])) if x is not None])\n",
    "\n",
    "# read in all broad - takes a while due to all 800K\n",
    "broad = pd.read_csv('../data/broad800k.csv') # the clean one of just smiles\n",
    "broad_smiles = list(broad['smiles'])\n",
    "broad_mols = [Chem.MolFromSmiles(x) for x in broad_smiles]\n",
    "broad_fps = [Chem.RDKFingerprint(x) for x in broad_mols if x is not None]\n",
    "broad"
   ]
  },
  {
   "cell_type": "code",
   "execution_count": null,
   "metadata": {},
   "outputs": [],
   "source": [
    "fp_list = list(broad_fps)\n",
    "fp_list.extend(abx_fps)\n",
    "fp_list.extend(drh_fps)\n",
    "\n",
    "fp_labels = ['Broad Institute 800K'] * len(broad_fps)\n",
    "fp_labels.extend(['Known Antibiotics'] * len(abx_fps))\n",
    "fp_labels.extend(['DRH'] * len(drh_fps))\n",
    "\n",
    "colors_for_vis = ['lightgray','green','steelblue']\n",
    "tsne_df = pca_tsne_mols(fp_list, fp_labels, colors_for_vis)"
   ]
  },
  {
   "cell_type": "markdown",
   "metadata": {},
   "source": [
    "# Part 3: Get additional information for interactive display"
   ]
  },
  {
   "cell_type": "code",
   "execution_count": null,
   "metadata": {},
   "outputs": [],
   "source": [
    "name_list = list(broad_smiles)\n",
    "name_list.extend(abx_names)\n",
    "name_list.extend(drh_names)\n",
    "\n",
    "smis_list = list(broad_smiles)\n",
    "smis_list.extend(abx_smiles)\n",
    "smis_list.extend(drh_smiles)\n",
    "\n",
    "testdf = tsne_df\n",
    "testdf['Name'] = name_list\n",
    "testdf['SMILES'] = smis_list\n",
    "\n",
    "# clean up display so only 2 dec\n",
    "abx = abx[['Smiles', 'Class-Annotated']]\n",
    "abx = abx.drop_duplicates('Smiles')\n",
    "testdf = testdf.merge(abx, left_on = 'SMILES', right_on = 'Smiles', how = 'left')\n",
    "testdf = testdf.fillna('N/A')"
   ]
  },
  {
   "cell_type": "code",
   "execution_count": null,
   "metadata": {},
   "outputs": [],
   "source": [
    "# actually make the plot\n",
    "hover_labels = ['X', 'Y', 'label', 'Name', 'SMILES', 'Class-Annotated']\n",
    "hover_bools = [True, True, True, True, True, True]\n",
    "\n",
    "fig = px.scatter(testdf, x = 'X', y = 'Y', opacity = 0.75, color =  testdf['label'], hover_data = dict(zip(hover_labels, hover_bools)), color_discrete_sequence=colors_for_vis)\n",
    "fig.update_layout({\n",
    "'plot_bgcolor': 'rgba(0, 0, 0, 0)',\n",
    "'paper_bgcolor': 'rgba(0, 0, 0, 0)',\n",
    "})\n",
    "fig.show()"
   ]
  },
  {
   "cell_type": "code",
   "execution_count": null,
   "metadata": {},
   "outputs": [],
   "source": [
    "# and save it\n",
    "testdf.to_csv('../out/drh_vs_broad800k_tsne_data_plus_annotated_mechanism_plus_val_ML_mols.csv', index = False)\n",
    "fig.write_image('../figure_panels/S2A_drh_vs_broad800k_tsne_data_plus_annotated_mechanism_plus_val_ML_mols.png') # had to conda install -c conda-forge python-kaleido\n",
    "testdf"
   ]
  },
  {
   "cell_type": "code",
   "execution_count": null,
   "metadata": {},
   "outputs": [],
   "source": [
    "# my edits changing the color + the order of display did not save\n",
    "# made a dummy column called dummy_label where 0 = broad800k, 1 = drh, 2 = abx using list comprehension https://stackoverflow.com/questions/9987483/elif-in-list-comprehension-conditionals\n",
    "# sorted on it and then displayed the test_df as above"
   ]
  }
 ],
 "metadata": {
  "kernelspec": {
   "display_name": "chemprop010821",
   "language": "python",
   "name": "chemprop010821"
  },
  "language_info": {
   "codemirror_mode": {
    "name": "ipython",
    "version": 3
   },
   "file_extension": ".py",
   "mimetype": "text/x-python",
   "name": "python",
   "nbconvert_exporter": "python",
   "pygments_lexer": "ipython3",
   "version": "3.8.6"
  }
 },
 "nbformat": 4,
 "nbformat_minor": 2
}
