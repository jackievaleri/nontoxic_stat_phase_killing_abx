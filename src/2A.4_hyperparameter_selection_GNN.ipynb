{
 "cells": [
  {
   "cell_type": "code",
   "execution_count": 1,
   "id": "3a05f6ab",
   "metadata": {},
   "outputs": [],
   "source": [
    "import glob as glob\n",
    "import pandas as pd\n",
    "import matplotlib.pyplot as plt\n",
    "import numpy as np"
   ]
  },
  {
   "cell_type": "code",
   "execution_count": 2,
   "id": "d693d325",
   "metadata": {},
   "outputs": [
    {
     "data": {
      "text/html": [
       "<div>\n",
       "<style scoped>\n",
       "    .dataframe tbody tr th:only-of-type {\n",
       "        vertical-align: middle;\n",
       "    }\n",
       "\n",
       "    .dataframe tbody tr th {\n",
       "        vertical-align: top;\n",
       "    }\n",
       "\n",
       "    .dataframe thead th {\n",
       "        text-align: right;\n",
       "    }\n",
       "</style>\n",
       "<table border=\"1\" class=\"dataframe\">\n",
       "  <thead>\n",
       "    <tr style=\"text-align: right;\">\n",
       "      <th></th>\n",
       "      <th>num</th>\n",
       "      <th>init_lr</th>\n",
       "      <th>dropout</th>\n",
       "      <th>hiddensize</th>\n",
       "      <th>ffn num layers</th>\n",
       "      <th>depth</th>\n",
       "    </tr>\n",
       "  </thead>\n",
       "  <tbody>\n",
       "    <tr>\n",
       "      <th>0</th>\n",
       "      <td>0.0</td>\n",
       "      <td>0.001</td>\n",
       "      <td>0.1</td>\n",
       "      <td>300.0</td>\n",
       "      <td>1.0</td>\n",
       "      <td>3.0</td>\n",
       "    </tr>\n",
       "    <tr>\n",
       "      <th>1</th>\n",
       "      <td>1.0</td>\n",
       "      <td>0.001</td>\n",
       "      <td>0.1</td>\n",
       "      <td>300.0</td>\n",
       "      <td>1.0</td>\n",
       "      <td>4.0</td>\n",
       "    </tr>\n",
       "    <tr>\n",
       "      <th>2</th>\n",
       "      <td>2.0</td>\n",
       "      <td>0.001</td>\n",
       "      <td>0.1</td>\n",
       "      <td>300.0</td>\n",
       "      <td>1.0</td>\n",
       "      <td>5.0</td>\n",
       "    </tr>\n",
       "    <tr>\n",
       "      <th>3</th>\n",
       "      <td>3.0</td>\n",
       "      <td>0.001</td>\n",
       "      <td>0.1</td>\n",
       "      <td>300.0</td>\n",
       "      <td>2.0</td>\n",
       "      <td>3.0</td>\n",
       "    </tr>\n",
       "    <tr>\n",
       "      <th>4</th>\n",
       "      <td>4.0</td>\n",
       "      <td>0.001</td>\n",
       "      <td>0.1</td>\n",
       "      <td>300.0</td>\n",
       "      <td>2.0</td>\n",
       "      <td>4.0</td>\n",
       "    </tr>\n",
       "    <tr>\n",
       "      <th>...</th>\n",
       "      <td>...</td>\n",
       "      <td>...</td>\n",
       "      <td>...</td>\n",
       "      <td>...</td>\n",
       "      <td>...</td>\n",
       "      <td>...</td>\n",
       "    </tr>\n",
       "    <tr>\n",
       "      <th>139</th>\n",
       "      <td>139.0</td>\n",
       "      <td>0.0001</td>\n",
       "      <td>0.4</td>\n",
       "      <td>1500.0</td>\n",
       "      <td>1.0</td>\n",
       "      <td>4.0</td>\n",
       "    </tr>\n",
       "    <tr>\n",
       "      <th>140</th>\n",
       "      <td>140.0</td>\n",
       "      <td>0.0001</td>\n",
       "      <td>0.4</td>\n",
       "      <td>1500.0</td>\n",
       "      <td>1.0</td>\n",
       "      <td>5.0</td>\n",
       "    </tr>\n",
       "    <tr>\n",
       "      <th>141</th>\n",
       "      <td>141.0</td>\n",
       "      <td>0.0001</td>\n",
       "      <td>0.4</td>\n",
       "      <td>1500.0</td>\n",
       "      <td>2.0</td>\n",
       "      <td>3.0</td>\n",
       "    </tr>\n",
       "    <tr>\n",
       "      <th>142</th>\n",
       "      <td>142.0</td>\n",
       "      <td>0.0001</td>\n",
       "      <td>0.4</td>\n",
       "      <td>1500.0</td>\n",
       "      <td>2.0</td>\n",
       "      <td>4.0</td>\n",
       "    </tr>\n",
       "    <tr>\n",
       "      <th>143</th>\n",
       "      <td>143.0</td>\n",
       "      <td>0.0001</td>\n",
       "      <td>0.4</td>\n",
       "      <td>1500.0</td>\n",
       "      <td>2.0</td>\n",
       "      <td>5.0</td>\n",
       "    </tr>\n",
       "  </tbody>\n",
       "</table>\n",
       "<p>144 rows × 6 columns</p>\n",
       "</div>"
      ],
      "text/plain": [
       "       num init_lr dropout hiddensize ffn num layers depth\n",
       "0      0.0   0.001     0.1      300.0            1.0   3.0\n",
       "1      1.0   0.001     0.1      300.0            1.0   4.0\n",
       "2      2.0   0.001     0.1      300.0            1.0   5.0\n",
       "3      3.0   0.001     0.1      300.0            2.0   3.0\n",
       "4      4.0   0.001     0.1      300.0            2.0   4.0\n",
       "..     ...     ...     ...        ...            ...   ...\n",
       "139  139.0  0.0001     0.4     1500.0            1.0   4.0\n",
       "140  140.0  0.0001     0.4     1500.0            1.0   5.0\n",
       "141  141.0  0.0001     0.4     1500.0            2.0   3.0\n",
       "142  142.0  0.0001     0.4     1500.0            2.0   4.0\n",
       "143  143.0  0.0001     0.4     1500.0            2.0   5.0\n",
       "\n",
       "[144 rows x 6 columns]"
      ]
     },
     "execution_count": 2,
     "metadata": {},
     "output_type": "execute_result"
    }
   ],
   "source": [
    "# with the hyperparameter optimization for GNN results, calculate best model\n",
    "cols = ['num', 'init_lr', 'dropout', 'hiddensize', 'ffn num layers', 'depth']\n",
    "df = pd.DataFrame(columns = cols)\n",
    "\n",
    "initlr = [1e-3, 1e-4] # initial learning rate\n",
    "dropout = [0.1, 0.25, 0.4] # dropout rate\n",
    "hiddensize = [300, 500, 1000, 1500] # size of each densely connected layer\n",
    "ffnnumlayers = [1, 2] # number of densely connected layers\n",
    "depth = [3, 4, 5] # number of graph convolutional operations\n",
    "\n",
    "# loop through parameters and initialize a blank dataframe\n",
    "model_dir = 0\n",
    "for l in initlr:\n",
    "    for d in dropout:\n",
    "        for h in hiddensize:\n",
    "            for f in ffnnumlayers:\n",
    "                for de in depth:\n",
    "                    new_row = [model_dir, l, d, h, f, de]\n",
    "                    new = pd.DataFrame(new_row).T\n",
    "                    new.columns = cols\n",
    "                    df = pd.concat([df, new], ignore_index = True)   \n",
    "                    model_dir = model_dir + 1\n",
    "df"
   ]
  },
  {
   "cell_type": "code",
   "execution_count": 3,
   "id": "2f8a0aa2",
   "metadata": {},
   "outputs": [
    {
     "name": "stdout",
     "output_type": "stream",
     "text": [
      "invalid literal for int() with base 10: 'finaltrain16'\n",
      "../models/hyperopt_gnn_models/finaltrain16/test_scores.csv\n",
      "best kill\n",
      "0.8443814338675079\n",
      "../models/hyperopt_gnn_models/16/test_scores.csv\n",
      "best inh\n",
      "0.898963771314707\n",
      "../models/hyperopt_gnn_models/135/test_scores.csv\n",
      "best avg\n",
      "0.8711629401205153\n",
      "../models/hyperopt_gnn_models/16/test_scores.csv\n"
     ]
    }
   ],
   "source": [
    "# initialize the best inhibition AUC, best killing AUC, and best AUC averaged between killing and inhibition\n",
    "df['inh mean auc'] = [0] * len(df)\n",
    "df['kill mean auc'] = [0] * len(df)\n",
    "df['avg mean auc'] = [0] * len(df)\n",
    "best_yet_kill = 0\n",
    "best_yet_kill_index = ''\n",
    "best_yet_inh = 0\n",
    "best_yet_inh_index = ''\n",
    "best_yet_avg = 0\n",
    "best_yet_avg_index = ''\n",
    "\n",
    "# loop through existing directory of files and grab metrics\n",
    "for name in glob.glob('../models/hyperopt_gnn_models/**/test_scores.csv', recursive = True): \n",
    "    try:\n",
    "        clean_num = int(name.split(\"hyperopt_gnn_models/\")[1].split(\"/\")[0])\n",
    "    except Exception as e:\n",
    "        print(e)\n",
    "        print(name)\n",
    "        continue\n",
    "    new = pd.read_csv(name) \n",
    "    inh_mean_auc = float(list(new['Mean auc'])[0])\n",
    "    kill_mean_auc = float(list(new['Mean auc'])[1])\n",
    "    avg_auc = np.average([inh_mean_auc, kill_mean_auc])\n",
    "    df.iloc[clean_num, df.columns.get_loc(\"inh mean auc\")] = inh_mean_auc\n",
    "    df.iloc[clean_num, df.columns.get_loc(\"kill mean auc\")] = kill_mean_auc\n",
    "    df.iloc[clean_num, df.columns.get_loc(\"avg mean auc\")] = avg_auc\n",
    "\n",
    "    if inh_mean_auc > best_yet_inh: # if this is the best result so far, keep it\n",
    "        best_yet_inh = inh_mean_auc\n",
    "        best_yet_inh_index = name\n",
    "    if kill_mean_auc > best_yet_kill: # if this is the best result so far, keep it\n",
    "        best_yet_kill = kill_mean_auc\n",
    "        best_yet_kill_index = name\n",
    "    if avg_auc > best_yet_avg: # if this is the best result so far, keep it\n",
    "        best_yet_avg = avg_auc\n",
    "        best_yet_avg_index = name\n",
    "\n",
    "# print best metrics\n",
    "print('best kill')\n",
    "print(best_yet_kill)\n",
    "print(best_yet_kill_index)\n",
    "\n",
    "print('best inh')\n",
    "print(best_yet_inh)\n",
    "print(best_yet_inh_index)\n",
    "\n",
    "print('best avg')\n",
    "print(best_yet_avg)\n",
    "print(best_yet_avg_index)"
   ]
  },
  {
   "cell_type": "code",
   "execution_count": 4,
   "id": "ab443ad7",
   "metadata": {},
   "outputs": [
    {
     "data": {
      "text/plain": [
       "num                   16.0\n",
       "init_lr              0.001\n",
       "dropout                0.1\n",
       "hiddensize          1000.0\n",
       "ffn num layers         2.0\n",
       "depth                  4.0\n",
       "inh mean auc      0.897944\n",
       "kill mean auc     0.844381\n",
       "avg mean auc      0.871163\n",
       "Name: 16, dtype: object"
      ]
     },
     "execution_count": 4,
     "metadata": {},
     "output_type": "execute_result"
    }
   ],
   "source": [
    "# let's look at the parameters of the best model\n",
    "df.iloc[16,:]"
   ]
  },
  {
   "cell_type": "code",
   "execution_count": 5,
   "id": "ed354d9a",
   "metadata": {},
   "outputs": [
    {
     "data": {
      "text/plain": [
       "num                  135.0\n",
       "init_lr             0.0001\n",
       "dropout                0.4\n",
       "hiddensize          1000.0\n",
       "ffn num layers         2.0\n",
       "depth                  3.0\n",
       "inh mean auc      0.898964\n",
       "kill mean auc     0.805738\n",
       "avg mean auc      0.852351\n",
       "Name: 135, dtype: object"
      ]
     },
     "execution_count": 5,
     "metadata": {},
     "output_type": "execute_result"
    }
   ],
   "source": [
    "# let's look at the parameters of another \"best\" model\n",
    "df.iloc[135,:]"
   ]
  },
  {
   "cell_type": "code",
   "execution_count": 6,
   "id": "335e3ece",
   "metadata": {},
   "outputs": [
    {
     "data": {
      "image/png": "[encoded data removed]",
      "text/plain": [
       "<Figure size 1500x900 with 1 Axes>"
      ]
     },
     "metadata": {
      "needs_background": "light"
     },
     "output_type": "display_data"
    }
   ],
   "source": [
    "# let's plot the spread of AUC performance over the hyperparameter optimization\n",
    "fig, ax = plt.subplots(figsize=(5,3), dpi = 300)\n",
    "plt.hist(df['inh mean auc'], bins = 40, alpha = 0.7, label = 'inh')\n",
    "plt.hist(df['kill mean auc'], bins = 40, alpha = 0.7, label = 'kill')\n",
    "plt.hist(df['avg mean auc'], bins = 40, alpha = 0.7, label = 'avg')\n",
    "ax.spines['right'].set_visible(False)\n",
    "ax.spines['top'].set_visible(False)\n",
    "plt.xlabel('Mean auROC')\n",
    "plt.ylabel('Counts')\n",
    "plt.legend()\n",
    "plt.show()"
   ]
  }
 ],
 "metadata": {
  "kernelspec": {
   "display_name": "chemprop",
   "language": "python",
   "name": "chemprop"
  },
  "language_info": {
   "codemirror_mode": {
    "name": "ipython",
    "version": 3
   },
   "file_extension": ".py",
   "mimetype": "text/x-python",
   "name": "python",
   "nbconvert_exporter": "python",
   "pygments_lexer": "ipython3",
   "version": "3.8.12"
  }
 },
 "nbformat": 4,
 "nbformat_minor": 5
}
