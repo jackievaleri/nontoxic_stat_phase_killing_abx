{
 "cells": [
  {
   "cell_type": "code",
   "execution_count": 1,
   "id": "adult-joyce",
   "metadata": {},
   "outputs": [],
   "source": [
    "import pandas as pd\n",
    "import subprocess\n",
    "import glob\n",
    "import numpy as np"
   ]
  },
  {
   "cell_type": "code",
   "execution_count": 3,
   "id": "purple-finnish",
   "metadata": {
    "scrolled": false
   },
   "outputs": [],
   "source": [
    "# prior to this, train final model on 100% of data using script_2A_gnn_final_train.sh"
   ]
  },
  {
   "cell_type": "markdown",
   "id": "25fa5593",
   "metadata": {},
   "source": [
    "# Part 1: Use final model on Broad800k library"
   ]
  },
  {
   "cell_type": "code",
   "execution_count": null,
   "id": "f1067edf",
   "metadata": {},
   "outputs": [],
   "source": [
    "# use a small chunk of 1,000 compounds at a time for models to predict on\n",
    "# can do less or more depending on your RAM\n",
    "chunksize = 1000\n",
    "\n",
    "# make directory for results to live\n",
    "!mkdir broad800k_preds/\n",
    "\n",
    "# preprocess data - SMILES and RDKit 2D normalized features\n",
    "data = pd.read_csv('../data/broad800k.csv')\n",
    "with np.load('../data/broad.npz') as ftsdata:\n",
    "    ftsdata = ftsdata['features']\n",
    "\n",
    "# chunkify the features and SMILES and save the pre-chunked features to files\n",
    "for i in range(0, len(data), chunksize):\n",
    "    smis = pd.DataFrame(data.iloc[i:i+chunksize,:])\n",
    "    smis.to_csv('broad800k_preds/' + str(i) + '.csv', index = False)\n",
    "    nps = ftsdata[i:i+chunksize,:]\n",
    "    np.save('broad800k_preds/' + str(i) + '.npy', nps)\n",
    "\n",
    "# to predict, use subprocess, parallel, or whatever you want!\n",
    "for i in range(0, len(data), chunksize):\n",
    "    print(i)\n",
    "    activate_command = 'conda activate chemprop; '\n",
    "    run_command = 'python predict.py --test_path ../nontoxic_stat_phase_killing_abx/broad800k_preds/' + str(i) + '.csv --checkpoint_dir ../nontoxic_stat_phase_killing_abx/models/finaltrain16/ --preds_path ../nontoxic_stat_phase_killing_abx/broad800k_preds/' + str(i) + '_preds.csv --features_path ../nontoxic_stat_phase_killing_abx/broad800k_preds/' + str(i) + '.npy --no_features_scaling --smiles_column smiles --gpu 0 --ensemble_variance'\n",
    "    full_command = activate_command + run_command\n",
    "    test = subprocess.run(full_command, cwd=\"../chemprop/\", shell=True, capture_output=True)"
   ]
  },
  {
   "cell_type": "code",
   "execution_count": null,
   "id": "6cfea2a1",
   "metadata": {},
   "outputs": [],
   "source": [
    "# now combine predictions across all chunks\n",
    "chemprop = pd.read_csv('broad800k_preds/0_preds.csv')\n",
    "for i in range(chunksize, len(data), chunksize):\n",
    "    new = pd.read_csv('broad800k_preds/' + str(i) + '_preds.csv')\n",
    "    chemprop = pd.concat([chemprop, new])\n",
    "chemprop.to_csv('../out/broad800k_model_predictions_08_20_2021.csv', index = False)"
   ]
  }
 ],
 "metadata": {
  "kernelspec": {
   "display_name": "Python 3 (ipykernel)",
   "language": "python",
   "name": "python3"
  },
  "language_info": {
   "codemirror_mode": {
    "name": "ipython",
    "version": 3
   },
   "file_extension": ".py",
   "mimetype": "text/x-python",
   "name": "python",
   "nbconvert_exporter": "python",
   "pygments_lexer": "ipython3",
   "version": "3.10.4"
  }
 },
 "nbformat": 4,
 "nbformat_minor": 5
}
